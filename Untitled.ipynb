{
 "cells": [
  {
   "cell_type": "code",
   "execution_count": null,
   "id": "0a46841a",
   "metadata": {},
   "outputs": [],
   "source": [
    "import random\n",
    "\n",
    "class blackJack():\n",
    "    def __init__(self):\n",
    "        print('Welcome')\n",
    "        total = random.randrange(1,11) + random.randrange(1,11)\n",
    "        d_total = random.randrange(1,11) + random.randrange(1,11)\n",
    "        print(total)\n",
    "        while True:\n",
    "            if total == 21:\n",
    "                blackjack = input(\"You have a 21 do you want to continue?\")\n",
    "                if blackjack.lower() == 'yes':\n",
    "                    continue\n",
    "                elif blackjack.lower() == 'no':\n",
    "                    if total > d_total or d_total > 21:\n",
    "                        print('You won')\n",
    "                    elif total == d_total:\n",
    "                        print('You Tied')\n",
    "            hit_input = input(\"Hit or Stand?\")\n",
    "            if hit_input.lower() == 'hit':\n",
    "                total += random.randrange(1,11)\n",
    "                d_total += random.randrange(1,11)\n",
    "                if total <= 21:\n",
    "                    print(total)\n",
    "                elif total > 21:\n",
    "                    print('You Have Busted')\n",
    "            elif hit_input == 'stand':\n",
    "                if d_total > 21:\n",
    "                    print('You Won')\n",
    "                    break\n",
    "                elif total > 21:\n",
    "                    print('You Lost')\n",
    "                    break\n",
    "                elif total > d_total:\n",
    "                    print('You Won')\n",
    "                    break\n",
    "                elif total < d_total:\n",
    "                    print('You Lost')\n",
    "                    break\n",
    "                else:\n",
    "                    print('You Tied')\n",
    "                    break\n",
    "        \n",
    "my_game = blackJack()\n",
    "while True:\n",
    "    my_game.player()\n",
    "    break\n"
   ]
  },
  {
   "cell_type": "code",
   "execution_count": null,
   "id": "8e02144e",
   "metadata": {},
   "outputs": [],
   "source": []
  }
 ],
 "metadata": {
  "kernelspec": {
   "display_name": "Python 3 (ipykernel)",
   "language": "python",
   "name": "python3"
  },
  "language_info": {
   "codemirror_mode": {
    "name": "ipython",
    "version": 3
   },
   "file_extension": ".py",
   "mimetype": "text/x-python",
   "name": "python",
   "nbconvert_exporter": "python",
   "pygments_lexer": "ipython3",
   "version": "3.9.13"
  }
 },
 "nbformat": 4,
 "nbformat_minor": 5
}
